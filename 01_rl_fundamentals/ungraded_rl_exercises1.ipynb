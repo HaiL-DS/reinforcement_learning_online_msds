{
 "cells": [
  {
   "cell_type": "markdown",
   "metadata": {},
   "source": [
    "## Ungraded RL Exercises 1\n",
    "\n",
    "### University of Virginia\n",
    "### Reinforcement Learning\n",
    "#### Last updated: June 3, 2025\n",
    "\n",
    "---"
   ]
  },
  {
   "cell_type": "markdown",
   "metadata": {},
   "source": [
    "Purpose: Brief exercises useful for RL.  \n",
    "It will be common to compute value estimates of various actions taken by agents.  \n",
    "After computing the estimates, we will need to index into the best action.\n",
    "\n",
    "Instructions: Solve the numbered tasks below\n",
    "\n",
    "---"
   ]
  },
  {
   "cell_type": "code",
   "execution_count": null,
   "metadata": {},
   "outputs": [],
   "source": [
    "import numpy as np"
   ]
  },
  {
   "cell_type": "markdown",
   "metadata": {},
   "source": [
    "Create standard normal data with seed"
   ]
  },
  {
   "cell_type": "code",
   "execution_count": null,
   "metadata": {},
   "outputs": [],
   "source": [
    "np.random.seed(314)\n",
    "x = np.random.randn(100,5)"
   ]
  },
  {
   "cell_type": "markdown",
   "metadata": {},
   "source": [
    "1 | Verify the mean is \"close\" to 0 and the standard devation is \"close\" to 1"
   ]
  },
  {
   "cell_type": "code",
   "execution_count": null,
   "metadata": {},
   "outputs": [],
   "source": []
  },
  {
   "cell_type": "markdown",
   "metadata": {},
   "source": [
    "2 | Given the numpy array *x*, find and show 1) the maximum value 2) the index containing the maximum value. Do not use a loop for this exercise."
   ]
  },
  {
   "cell_type": "code",
   "execution_count": null,
   "metadata": {},
   "outputs": [],
   "source": []
  },
  {
   "cell_type": "code",
   "execution_count": null,
   "metadata": {},
   "outputs": [],
   "source": []
  },
  {
   "cell_type": "markdown",
   "metadata": {},
   "source": [
    "3 | Given the dictionary *y*, sort the values by the 'actions' key in descending order.  \n",
    "The values in the 'config' key should be arranged following this same sort order."
   ]
  },
  {
   "cell_type": "code",
   "execution_count": null,
   "metadata": {},
   "outputs": [],
   "source": [
    "y = {'actions' : [0,1,2,3], 'configs' : ['a','b','c','d']}"
   ]
  },
  {
   "cell_type": "code",
   "execution_count": null,
   "metadata": {},
   "outputs": [],
   "source": []
  },
  {
   "cell_type": "markdown",
   "metadata": {},
   "source": [
    "---\n",
    "\n",
    "**Solutions (Don't peek until you've tried the exercises!)**"
   ]
  },
  {
   "cell_type": "code",
   "execution_count": null,
   "metadata": {
    "jupyter": {
     "source_hidden": true
    }
   },
   "outputs": [],
   "source": [
    "# 1\n",
    "\n",
    "print('mean:', np.mean(x), 'sd:', np.std(x))"
   ]
  },
  {
   "cell_type": "code",
   "execution_count": null,
   "metadata": {
    "jupyter": {
     "source_hidden": true
    }
   },
   "outputs": [],
   "source": [
    "#2 \n",
    "\n",
    "max_val = np.amax(x)\n",
    "max_loc = np.where(x == max_val)\n",
    "\n",
    "print('max:', max_val, 'max_idx:', max_loc)\n",
    "print('verify location holds max:', x[max_loc])"
   ]
  },
  {
   "cell_type": "code",
   "execution_count": null,
   "metadata": {
    "jupyter": {
     "source_hidden": true
    }
   },
   "outputs": [],
   "source": [
    "# 3\n",
    "\n",
    "# get the indices for sorting\n",
    "ix = sorted(range(len(y['actions'])), \n",
    "            key=lambda i: y['actions'][i], \n",
    "            reverse=True)\n",
    "\n",
    "# sort each key by this ordering\n",
    "y_sort = {\n",
    "    'actions': [y['actions'][i] for i in ix],\n",
    "    'configs': [y['configs'][i] for i in ix]\n",
    "}\n",
    "\n",
    "y_sort"
   ]
  }
 ],
 "metadata": {
  "kernelspec": {
   "display_name": "Python 3 (ipykernel)",
   "language": "python",
   "name": "python3"
  },
  "language_info": {
   "codemirror_mode": {
    "name": "ipython",
    "version": 3
   },
   "file_extension": ".py",
   "mimetype": "text/x-python",
   "name": "python",
   "nbconvert_exporter": "python",
   "pygments_lexer": "ipython3",
   "version": "3.12.9"
  }
 },
 "nbformat": 4,
 "nbformat_minor": 4
}
