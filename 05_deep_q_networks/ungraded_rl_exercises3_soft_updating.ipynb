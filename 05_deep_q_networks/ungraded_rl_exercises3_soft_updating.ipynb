{
 "cells": [
  {
   "cell_type": "markdown",
   "metadata": {},
   "source": [
    "## Ungraded RL Exercises 3: Soft Updates\n",
    "\n",
    "### University of Virginia\n",
    "### Reinforcement Learning\n",
    "#### Last updated: June 17, 2025\n",
    "\n",
    "---"
   ]
  },
  {
   "cell_type": "markdown",
   "metadata": {},
   "source": [
    "A common practice in Deep RL is to use a lagged copy of the network which is periodically synced with the target network.\n",
    "\n",
    "It works like this:\n",
    "\n",
    "- At each time step, slowly update each element of $\\theta'$ with a fraction of each element of $\\theta$ \n",
    "- A smoothing parameter $\\tau$ is used to apply the convex combination\n",
    "- The value of $\\tau$ will be small, such as 0.001\n",
    "\n",
    "The update equation has this form:  \n",
    "$\\theta' = \\tau \\theta + (1-\\tau) \\theta'$ \n",
    "\n",
    "Given the values below for $\\theta'$ and $\\theta$, complete the exercises below. Solutions at bottom."
   ]
  },
  {
   "cell_type": "code",
   "execution_count": 48,
   "metadata": {},
   "outputs": [],
   "source": [
    "import numpy as np\n",
    "import matplotlib.pyplot as plt"
   ]
  },
  {
   "cell_type": "code",
   "execution_count": 62,
   "metadata": {},
   "outputs": [],
   "source": [
    "# define parameters vectors, each with two components\n",
    "theta_prime = np.array([0.5, 0.2])\n",
    "theta       = np.array([0.8, 1.3])"
   ]
  },
  {
   "cell_type": "markdown",
   "metadata": {},
   "source": [
    "1 | For each value $\\tau = 0, 0.1, 0.2, \\ldots, 1.0$, compute the updated vector $\\theta'$.  \n",
    "That is, each element $\\theta'_1$ and $\\theta'_2$ will be updated given each $\\tau$."
   ]
  },
  {
   "cell_type": "code",
   "execution_count": null,
   "metadata": {},
   "outputs": [],
   "source": []
  },
  {
   "cell_type": "markdown",
   "metadata": {},
   "source": [
    "2 | Next, we wish to visualize the elements of $\\theta'$ as a function of $\\tau.$ Create a graph with $\\tau$ on the x-axis. Show lines illustrating how the elements $\\theta'_1$ and $\\theta'_2$ vary with $\\tau$."
   ]
  },
  {
   "cell_type": "code",
   "execution_count": null,
   "metadata": {},
   "outputs": [],
   "source": []
  },
  {
   "cell_type": "markdown",
   "metadata": {},
   "source": [
    "3 | What is $\\theta'$ when $\\tau = 0.4?$"
   ]
  },
  {
   "cell_type": "code",
   "execution_count": null,
   "metadata": {},
   "outputs": [],
   "source": []
  },
  {
   "cell_type": "markdown",
   "metadata": {},
   "source": [
    "---\n",
    "\n",
    "**Solutions (Don't peek until you've tried the exercises!)**"
   ]
  },
  {
   "cell_type": "code",
   "execution_count": 63,
   "metadata": {
    "collapsed": true,
    "jupyter": {
     "outputs_hidden": true,
     "source_hidden": true
    }
   },
   "outputs": [
    {
     "data": {
      "text/plain": [
       "[array([0.5, 0.2]),\n",
       " array([0.53, 0.31]),\n",
       " array([0.56, 0.42]),\n",
       " array([0.59, 0.53]),\n",
       " array([0.62, 0.64]),\n",
       " array([0.65, 0.75]),\n",
       " array([0.68, 0.86]),\n",
       " array([0.71, 0.97]),\n",
       " array([0.74, 1.08]),\n",
       " array([0.77, 1.19]),\n",
       " array([0.8, 1.3])]"
      ]
     },
     "execution_count": 63,
     "metadata": {},
     "output_type": "execute_result"
    }
   ],
   "source": [
    "#1 | For each value $\\tau = 0, 0.1, 0.2, \\dots, 1.0$, compute the updated vector $\\theta'$.  \n",
    "#That is, each element $\\theta'_1$ and $\\theta'_2$ will be updated given each $\\tau$.\n",
    "\n",
    "tau = np.arange(0, 1.1, 0.1)\n",
    "out = []\n",
    "for t in tau:\n",
    "    out.append(t * theta + (1-t) * theta_prime)\n",
    " \n",
    "out"
   ]
  },
  {
   "cell_type": "code",
   "execution_count": 69,
   "metadata": {
    "collapsed": true,
    "jupyter": {
     "outputs_hidden": true,
     "source_hidden": true
    },
    "scrolled": true
   },
   "outputs": [
    {
     "data": {
      "image/png": "[encoded data removed]",
      "text/plain": [
       "<Figure size 640x480 with 1 Axes>"
      ]
     },
     "metadata": {},
     "output_type": "display_data"
    }
   ],
   "source": [
    "#2 | Next, we wish to visualize the elements of $\\theta'$ as a function of $\\tau.$ Create a graph with $\\tau$ on the x-axis. Show lines illustrating #how the elements $\\theta'_1$ and $\\theta'_2$ vary with $\\tau$.\n",
    "\n",
    "plt.plot(tau, [out[i][0] for i in range(len(out))], \"-b\", label=\"element1\")\n",
    "plt.plot(tau, [out[i][1] for i in range(len(out))], \"-r\", label=\"element2\")\n",
    "plt.xlabel(\"tau\")\n",
    "plt.legend(loc=\"upper left\")\n",
    "plt.show()"
   ]
  },
  {
   "cell_type": "code",
   "execution_count": 70,
   "metadata": {
    "collapsed": true,
    "jupyter": {
     "outputs_hidden": true,
     "source_hidden": true
    }
   },
   "outputs": [
    {
     "name": "stdout",
     "output_type": "stream",
     "text": [
      "[0.62 0.64]\n"
     ]
    }
   ],
   "source": [
    "#3 | What is $\\theta'$ when $\\tau = 0.4?$\n",
    "\n",
    "t = 0.4\n",
    "print(t * theta + (1-t) * theta_prime)\n"
   ]
  }
 ],
 "metadata": {
  "kernelspec": {
   "display_name": "Python 3 (ipykernel)",
   "language": "python",
   "name": "python3"
  },
  "language_info": {
   "codemirror_mode": {
    "name": "ipython",
    "version": 3
   },
   "file_extension": ".py",
   "mimetype": "text/x-python",
   "name": "python",
   "nbconvert_exporter": "python",
   "pygments_lexer": "ipython3",
   "version": "3.12.9"
  }
 },
 "nbformat": 4,
 "nbformat_minor": 4
}
