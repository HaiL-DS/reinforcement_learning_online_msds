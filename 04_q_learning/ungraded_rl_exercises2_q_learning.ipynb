{
 "cells": [
  {
   "cell_type": "markdown",
   "metadata": {},
   "source": [
    "## Ungraded RL Exercises 2: Q-learning\n",
    "\n",
    "### University of Virginia\n",
    "### Reinforcement Learning\n",
    "#### Last updated: June 16, 2025\n",
    "\n",
    "---"
   ]
  },
  {
   "cell_type": "markdown",
   "metadata": {},
   "source": [
    "Purpose: Brief exercises useful for better understanding Q-learning.  \n",
    "\n",
    "Instructions: Give your responses to the questions below. Solutions at bottom.\n",
    "\n",
    "---"
   ]
  },
  {
   "cell_type": "markdown",
   "metadata": {},
   "source": [
    "1 | What sort of problem is a good candidate for Q-learning?"
   ]
  },
  {
   "cell_type": "markdown",
   "metadata": {},
   "source": []
  },
  {
   "cell_type": "markdown",
   "metadata": {},
   "source": [
    "2 | Briefly describe when it does not make sense to use Q-learning. Think about its limitations."
   ]
  },
  {
   "cell_type": "markdown",
   "metadata": {},
   "source": []
  },
  {
   "cell_type": "markdown",
   "metadata": {},
   "source": [
    "3 | How does the learning rate $\\alpha$ affect Q-learning?"
   ]
  },
  {
   "cell_type": "markdown",
   "metadata": {},
   "source": []
  },
  {
   "cell_type": "markdown",
   "metadata": {},
   "source": [
    "---\n",
    "\n",
    "**Solutions (Don't peek until you've tried the exercises!)**"
   ]
  },
  {
   "cell_type": "markdown",
   "metadata": {},
   "source": [
    "1 | What sort of problem is a good candidate for Q-learning?\n",
    "\n",
    "Ans: \n",
    "\n",
    "The agent needs to learn from data by exploring, a model for the environment is not available, data labels are not available, and the state and action spaces are discrete with relatively low cardinality.\n",
    "\n",
    "---"
   ]
  },
  {
   "cell_type": "markdown",
   "metadata": {},
   "source": [
    "2 | Briefly describe when it does not make sense to use Q-Learning. Think about its limitations.\n",
    "\n",
    "Ans: \n",
    "\n",
    "-If you have labeled data, it is better to try supervised learning first\n",
    "\n",
    "-When a model is available, it can be better to use an approach like value iteration\n",
    "\n",
    "-If you don't have labels and the state space / action space is relatively large, Q-learning isn't a good option.  \n",
    "This is because Q-learning is a tabular solution that doesn't scale well in terms of storage and compute.\n",
    "\n",
    "---"
   ]
  },
  {
   "cell_type": "markdown",
   "metadata": {},
   "source": [
    "3 | How does the learning rate $\\alpha$ affect Q-learning?\n",
    "\n",
    "Ans:\n",
    "\n",
    "The update equation below helps to answer this question. The learning rate controls the relative weight on the new data relative to the old data.  For a larger $\\alpha$, more weight is placed on new data and less weight is placed on old data. \n",
    "\n",
    "A higher learning rate adapts quickly to new data but forgets old data. A lower learning rate adapts slowly to new data. It is important to select an $\\alpha$ that balances these forces. \n",
    "\n",
    "$Q(s,a) := Q(s,a) + \\alpha [r + \\gamma \\underset{a}{\\operatorname{\\max}} Q(s',a) -  Q(s,a)]$\n",
    "\n",
    "rearranging: \n",
    "\n",
    "$Q(s,a) := (1 - \\alpha) Q(s,a) + \\alpha [r + \\gamma \\underset{a}{\\operatorname{\\max}} Q(s',a)]$\n",
    "\n",
    "---"
   ]
  },
  {
   "cell_type": "code",
   "execution_count": null,
   "metadata": {},
   "outputs": [],
   "source": []
  }
 ],
 "metadata": {
  "kernelspec": {
   "display_name": "Python 3 (ipykernel)",
   "language": "python",
   "name": "python3"
  },
  "language_info": {
   "codemirror_mode": {
    "name": "ipython",
    "version": 3
   },
   "file_extension": ".py",
   "mimetype": "text/x-python",
   "name": "python",
   "nbconvert_exporter": "python",
   "pygments_lexer": "ipython3",
   "version": "3.12.9"
  }
 },
 "nbformat": 4,
 "nbformat_minor": 4
}
